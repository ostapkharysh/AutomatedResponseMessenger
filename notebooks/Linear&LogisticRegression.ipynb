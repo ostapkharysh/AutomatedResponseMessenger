{
 "cells": [
  {
   "cell_type": "code",
   "execution_count": null,
   "metadata": {},
   "outputs": [
    {
     "name": "stderr",
     "output_type": "stream",
     "text": [
      "/usr/local/lib/python3.6/dist-packages/sklearn/cross_validation.py:41: DeprecationWarning: This module was deprecated in version 0.18 in favor of the model_selection module into which all the refactored classes and functions are moved. Also note that the interface of the new CV iterators are different from that of this module. This module will be removed in 0.20.\n",
      "  \"This module will be removed in 0.20.\", DeprecationWarning)\n"
     ]
    }
   ],
   "source": [
    "import pandas as pd\n",
    "import numpy as np\n",
    "from sklearn import linear_model\n",
    "from sklearn.cross_validation import train_test_split\n",
    "from scripts.loader import load_data\n",
    "from sklearn.pipeline import Pipeline\n",
    "from sklearn.feature_extraction.text import TfidfVectorizer\n",
    "from sklearn.metrics import f1_score, classification_report, r2_score\n",
    "from sklearn.metrics import mean_squared_error\n",
    "import matplotlib.pyplot as plt"
   ]
  },
  {
   "cell_type": "code",
   "execution_count": 2,
   "metadata": {},
   "outputs": [],
   "source": [
    "B = load_data(\"data/qa_Appliances.json.gz\")\n",
    "A = load_data(\"data/qa_Tools_and_Home_Improvement.json.gz\")"
   ]
  },
  {
   "cell_type": "code",
   "execution_count": 3,
   "metadata": {},
   "outputs": [],
   "source": [
    "\n",
    "X_train, Y_train = A[\"question\"], A[\"questionType\"]\n",
    "X_test, Y_test = B[\"question\"], B[\"questionType\"]\n"
   ]
  },
  {
   "cell_type": "code",
   "execution_count": 4,
   "metadata": {},
   "outputs": [],
   "source": [
    "Y_train  = Y_train.apply(lambda y: 1 if y == \"yes/no\" else 0).as_matrix()\n",
    "Y_test  = Y_test.apply(lambda y: 1 if y == \"yes/no\" else 0).as_matrix()\n",
    "\n",
    "#X = X.apply(lambda y: str(y) if not isinstance(y, str) else pass).as_matrix()\n",
    "#X = pd.DataFrame(X)\n",
    "#Y = pd.DataFrame(Y)\n",
    "#print(Y)\n"
   ]
  },
  {
   "cell_type": "code",
   "execution_count": 5,
   "metadata": {},
   "outputs": [
    {
     "name": "stdout",
     "output_type": "stream",
     "text": [
      "9011\n",
      "101088\n",
      "9011\n",
      "101088\n"
     ]
    }
   ],
   "source": [
    "#x_train, x_test, y_train, y_test = train_test_split(X, Y, test_size=0.2, stratify=Y)\n",
    "#random_state=4\n",
    "#vect = TfidfVectorizer()\n",
    "#x_train_vect = vect.fit_transform(x_train)\n",
    "#y_train_vect = vect.fit_transform(y_train)\n",
    "#mdl = linear_model.LinearRegression()\n",
    "#mdl.train(x_train_vect, y_train_vect)\n",
    "print(len(X_train))\n",
    "#print(x_train_vect)\n",
    "print(len(X_test))\n",
    "print(len(Y_train))\n",
    "print(len(Y_test))"
   ]
  },
  {
   "cell_type": "code",
   "execution_count": 6,
   "metadata": {},
   "outputs": [],
   "source": [
    "mdl_lin = Pipeline([('tfidf', TfidfVectorizer(ngram_range=(1, 3))), ('lr', linear_model.LinearRegression())])\n",
    "mdl_log = Pipeline([('tfidf', TfidfVectorizer(ngram_range=(1, 3))), ('lr', linear_model.LogisticRegression())])"
   ]
  },
  {
   "cell_type": "code",
   "execution_count": 7,
   "metadata": {
    "scrolled": true
   },
   "outputs": [
    {
     "data": {
      "text/plain": [
       "Pipeline(memory=None,\n",
       "     steps=[('tfidf', TfidfVectorizer(analyzer='word', binary=False, decode_error='strict',\n",
       "        dtype=<class 'numpy.int64'>, encoding='utf-8', input='content',\n",
       "        lowercase=True, max_df=1.0, max_features=None, min_df=1,\n",
       "        ngram_range=(1, 3), norm='l2', preprocessor=None, smooth_idf=True,\n",
       " ...ty='l2', random_state=None, solver='liblinear', tol=0.0001,\n",
       "          verbose=0, warm_start=False))])"
      ]
     },
     "execution_count": 7,
     "metadata": {},
     "output_type": "execute_result"
    }
   ],
   "source": [
    "mdl_lin.fit(X_train, Y_train)\n",
    "mdl_log.fit(X_train, Y_train)\n",
    "# print(\"formula: y={0}x + {1}\".format(m, b))\n"
   ]
  },
  {
   "cell_type": "code",
   "execution_count": 8,
   "metadata": {},
   "outputs": [],
   "source": [
    "pred_lin = mdl_lin.predict(X_test)\n",
    "pred_log = mdl_log.predict(X_test)\n",
    "#print(len(x_test))\n",
    "#print(pred_lin)"
   ]
  },
  {
   "cell_type": "code",
   "execution_count": 9,
   "metadata": {
    "scrolled": true
   },
   "outputs": [
    {
     "name": "stdout",
     "output_type": "stream",
     "text": [
      "LINEAR REGRESSION\n",
      "Accuracy: 0.41159\n",
      "Mean squared error: 0.15\n",
      "Variance score: 0.41\n",
      "\n",
      "LOGISTIC REGRESSION\n",
      "Accuracy: 0.36966\n",
      "Mean squared error: 0.16\n",
      "Variance score: 0.37\n"
     ]
    }
   ],
   "source": [
    "print(\"LINEAR REGRESSION\")\n",
    "print(\"Accuracy: %.5f\" % r2_score(Y_test, pred_lin))\n",
    "# The mean squared error\n",
    "print(\"Mean squared error: %.2f\"\n",
    "      % mean_squared_error(Y_test, pred_lin))\n",
    "# Explained variance score: 1 is perfect prediction\n",
    "print('Variance score: %.2f' % r2_score(Y_test, pred_lin))\n",
    "print()\n",
    "print(\"LOGISTIC REGRESSION\")\n",
    "print(\"Accuracy: %.5f\" % r2_score(Y_test, pred_log))\n",
    "# The mean squared error\n",
    "print(\"Mean squared error: %.2f\"\n",
    "      % mean_squared_error(Y_test, pred_log))\n",
    "# Explained variance score: 1 is perfect prediction\n",
    "print('Variance score: %.2f' % r2_score(Y_test, pred_log))\n"
   ]
  }
 ],
 "metadata": {
  "kernelspec": {
   "display_name": "Python 3",
   "language": "python",
   "name": "python3"
  },
  "language_info": {
   "codemirror_mode": {
    "name": "ipython",
    "version": 3
   },
   "file_extension": ".py",
   "mimetype": "text/x-python",
   "name": "python",
   "nbconvert_exporter": "python",
   "pygments_lexer": "ipython3",
   "version": "3.6.3"
  }
 },
 "nbformat": 4,
 "nbformat_minor": 2
}
