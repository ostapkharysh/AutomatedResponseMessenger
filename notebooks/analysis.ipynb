{
 "cells": [
  {
   "cell_type": "markdown",
   "metadata": {
    "collapsed": true
   },
   "source": [
    "## Most frequent word"
   ]
  },
  {
   "cell_type": "code",
   "execution_count": 67,
   "metadata": {},
   "outputs": [],
   "source": [
    "from scripts.loader import load_data\n",
    "from sklearn.model_selection import train_test_split\n",
    "from sklearn.pipeline import Pipeline\n",
    "from sklearn.linear_model import LogisticRegression\n",
    "from sklearn.feature_extraction.text import TfidfVectorizer\n",
    "from sklearn.metrics import f1_score, classification_report"
   ]
  },
  {
   "cell_type": "code",
   "execution_count": 68,
   "metadata": {},
   "outputs": [],
   "source": [
    "df = load_data(\"data/qa_Appliances.json.gz\")"
   ]
  },
  {
   "cell_type": "code",
   "execution_count": 31,
   "metadata": {},
   "outputs": [
    {
     "data": {
      "text/html": [
       "<div>\n",
       "<style>\n",
       "    .dataframe thead tr:only-child th {\n",
       "        text-align: right;\n",
       "    }\n",
       "\n",
       "    .dataframe thead th {\n",
       "        text-align: left;\n",
       "    }\n",
       "\n",
       "    .dataframe tbody tr th {\n",
       "        vertical-align: top;\n",
       "    }\n",
       "</style>\n",
       "<table border=\"1\" class=\"dataframe\">\n",
       "  <thead>\n",
       "    <tr style=\"text-align: right;\">\n",
       "      <th></th>\n",
       "      <th>answer</th>\n",
       "      <th>answerTime</th>\n",
       "      <th>answerType</th>\n",
       "      <th>asin</th>\n",
       "      <th>question</th>\n",
       "      <th>questionType</th>\n",
       "      <th>unixTime</th>\n",
       "    </tr>\n",
       "  </thead>\n",
       "  <tbody>\n",
       "    <tr>\n",
       "      <th>0</th>\n",
       "      <td>I replaced my old one with this without a hitch.</td>\n",
       "      <td>Jun 27, 2014</td>\n",
       "      <td>?</td>\n",
       "      <td>B00004U9JP</td>\n",
       "      <td>I have a 9 year old Badger 1 that needs replac...</td>\n",
       "      <td>yes/no</td>\n",
       "      <td>1.403852e+09</td>\n",
       "    </tr>\n",
       "    <tr>\n",
       "      <th>1</th>\n",
       "      <td>This may help InSinkErator Model BADGER-1: Bad...</td>\n",
       "      <td>Apr 28, 2014</td>\n",
       "      <td>NaN</td>\n",
       "      <td>B00004U9JP</td>\n",
       "      <td>model number</td>\n",
       "      <td>open-ended</td>\n",
       "      <td>1.398668e+09</td>\n",
       "    </tr>\n",
       "    <tr>\n",
       "      <th>2</th>\n",
       "      <td>Plumbing connections will vary with different ...</td>\n",
       "      <td>Aug 25, 2014</td>\n",
       "      <td>?</td>\n",
       "      <td>B00004U9JP</td>\n",
       "      <td>can I replace Badger 1 1/3 with a Badger 5 1/2...</td>\n",
       "      <td>yes/no</td>\n",
       "      <td>1.408950e+09</td>\n",
       "    </tr>\n",
       "    <tr>\n",
       "      <th>3</th>\n",
       "      <td>It does not come with a power cord. It does co...</td>\n",
       "      <td>Nov 3, 2014</td>\n",
       "      <td>?</td>\n",
       "      <td>B00004U9JP</td>\n",
       "      <td>Does this come with power cord and dishwasher ...</td>\n",
       "      <td>yes/no</td>\n",
       "      <td>1.415002e+09</td>\n",
       "    </tr>\n",
       "    <tr>\n",
       "      <th>4</th>\n",
       "      <td>Check if you dropped something inside.Usually ...</td>\n",
       "      <td>Jun 21, 2014</td>\n",
       "      <td>NaN</td>\n",
       "      <td>B00004U9JP</td>\n",
       "      <td>loud noise inside when turned on. sounds like ...</td>\n",
       "      <td>open-ended</td>\n",
       "      <td>1.403334e+09</td>\n",
       "    </tr>\n",
       "  </tbody>\n",
       "</table>\n",
       "</div>"
      ],
      "text/plain": [
       "                                              answer    answerTime answerType  \\\n",
       "0   I replaced my old one with this without a hitch.  Jun 27, 2014          ?   \n",
       "1  This may help InSinkErator Model BADGER-1: Bad...  Apr 28, 2014        NaN   \n",
       "2  Plumbing connections will vary with different ...  Aug 25, 2014          ?   \n",
       "3  It does not come with a power cord. It does co...   Nov 3, 2014          ?   \n",
       "4  Check if you dropped something inside.Usually ...  Jun 21, 2014        NaN   \n",
       "\n",
       "         asin                                           question questionType  \\\n",
       "0  B00004U9JP  I have a 9 year old Badger 1 that needs replac...       yes/no   \n",
       "1  B00004U9JP                                       model number   open-ended   \n",
       "2  B00004U9JP  can I replace Badger 1 1/3 with a Badger 5 1/2...       yes/no   \n",
       "3  B00004U9JP  Does this come with power cord and dishwasher ...       yes/no   \n",
       "4  B00004U9JP  loud noise inside when turned on. sounds like ...   open-ended   \n",
       "\n",
       "       unixTime  \n",
       "0  1.403852e+09  \n",
       "1  1.398668e+09  \n",
       "2  1.408950e+09  \n",
       "3  1.415002e+09  \n",
       "4  1.403334e+09  "
      ]
     },
     "execution_count": 31,
     "metadata": {},
     "output_type": "execute_result"
    }
   ],
   "source": [
    "df.head()"
   ]
  },
  {
   "cell_type": "code",
   "execution_count": 32,
   "metadata": {},
   "outputs": [],
   "source": [
    "short_df = df[df[\"answer\"].str.len() < 10]"
   ]
  },
  {
   "cell_type": "code",
   "execution_count": 37,
   "metadata": {},
   "outputs": [
    {
     "data": {
      "text/plain": [
       "yes          318\n",
       "no           147\n",
       "yes.          35\n",
       "no.           13\n",
       "220v           4\n",
       "black          4\n",
       "plastic        3\n",
       "10\"            3\n",
       "120v           3\n",
       "yes!           3\n",
       "one            3\n",
       "china          3\n",
       "not sure       2\n",
       "110            2\n",
       "6 feet         2\n",
       "it should      2\n",
       "no idea        2\n",
       "both           2\n",
       "just one.      1\n",
       "16 by 24       1\n",
       "yeah           1\n",
       "half moon      1\n",
       "just 1         1\n",
       "gray.          1\n",
       "good           1\n",
       "220 volts      1\n",
       "loops.         1\n",
       "just one       1\n",
       "6\" round       1\n",
       "120            1\n",
       "            ... \n",
       "back           1\n",
       "it does!       1\n",
       "i wish!!       1\n",
       "gas.           1\n",
       "faux wood      1\n",
       "26 1/3         1\n",
       "24hrs          1\n",
       "no sorry       1\n",
       "2012           1\n",
       "small          1\n",
       "6\"             1\n",
       "one year       1\n",
       "white.         1\n",
       "yes. thx       1\n",
       "same size      1\n",
       "7              1\n",
       "nobattery      1\n",
       "4 pins         1\n",
       "2000w          1\n",
       "41             1\n",
       "6 inches       1\n",
       "110v           1\n",
       "one only       1\n",
       "4              1\n",
       "yes i do       1\n",
       "one aaa.       1\n",
       "15a 125v       1\n",
       "vented         1\n",
       "5 inches       1\n",
       "got one        1\n",
       "Name: answer, Length: 160, dtype: int64"
      ]
     },
     "execution_count": 37,
     "metadata": {},
     "output_type": "execute_result"
    }
   ],
   "source": [
    "short_df['answer'].str.lower().value_counts()"
   ]
  },
  {
   "cell_type": "markdown",
   "metadata": {},
   "source": [
    "## Short question detection model"
   ]
  },
  {
   "cell_type": "code",
   "execution_count": 63,
   "metadata": {},
   "outputs": [
    {
     "data": {
      "text/plain": [
       "yes/no        4693\n",
       "open-ended    4318\n",
       "Name: questionType, dtype: int64"
      ]
     },
     "execution_count": 63,
     "metadata": {},
     "output_type": "execute_result"
    }
   ],
   "source": [
    "X, y = df[\"question\"], df[\"questionType\"]\n",
    "y.value_counts()"
   ]
  },
  {
   "cell_type": "code",
   "execution_count": 64,
   "metadata": {},
   "outputs": [
    {
     "data": {
      "text/plain": [
       "array([1, 0, 1, ..., 0, 1, 1])"
      ]
     },
     "execution_count": 64,
     "metadata": {},
     "output_type": "execute_result"
    }
   ],
   "source": [
    "y = y.apply(lambda x: 1 if x == \"yes/no\" else 0).as_matrix()\n",
    "y"
   ]
  },
  {
   "cell_type": "markdown",
   "metadata": {},
   "source": [
    "Spling data into train and test sets"
   ]
  },
  {
   "cell_type": "code",
   "execution_count": 69,
   "metadata": {},
   "outputs": [],
   "source": [
    "X_train, X_test, y_train, y_test = train_test_split(X, y, test_size=0.1, random_state=42, stratify=y)"
   ]
  },
  {
   "cell_type": "code",
   "execution_count": 70,
   "metadata": {
    "collapsed": true
   },
   "outputs": [],
   "source": [
    "mdl = Pipeline([('tfidf', TfidfVectorizer(ngram_range=(1, 3), max_features=10000)), ('lr', LogisticRegression(C=10.0, n_jobs=-1))])"
   ]
  },
  {
   "cell_type": "code",
   "execution_count": 71,
   "metadata": {},
   "outputs": [
    {
     "ename": "NameError",
     "evalue": "name 'data_train' is not defined",
     "output_type": "error",
     "traceback": [
      "\u001b[0;31m---------------------------------------------------------------------------\u001b[0m",
      "\u001b[0;31mNameError\u001b[0m                                 Traceback (most recent call last)",
      "\u001b[0;32m<ipython-input-71-67c19bc3b850>\u001b[0m in \u001b[0;36m<module>\u001b[0;34m()\u001b[0m\n\u001b[0;32m----> 1\u001b[0;31m \u001b[0mmdl\u001b[0m\u001b[0;34m.\u001b[0m\u001b[0mfit\u001b[0m\u001b[0;34m(\u001b[0m\u001b[0mdata_train\u001b[0m\u001b[0;34m,\u001b[0m \u001b[0mlabels_train\u001b[0m\u001b[0;34m)\u001b[0m\u001b[0;34m\u001b[0m\u001b[0m\n\u001b[0m",
      "\u001b[0;31mNameError\u001b[0m: name 'data_train' is not defined"
     ]
    }
   ],
   "source": [
    "mdl.fit(da_train, labels_train)"
   ]
  },
  {
   "cell_type": "code",
   "execution_count": null,
   "metadata": {
    "collapsed": true
   },
   "outputs": [],
   "source": [
    "y_pred = mdl.predict(data_test)"
   ]
  },
  {
   "cell_type": "code",
   "execution_count": null,
   "metadata": {
    "collapsed": true
   },
   "outputs": [],
   "source": [
    "print(\"Logistic regression\")\n",
    "print(f1_score(labels_test, y_pred))\n",
    "print(classification_report(labels_test, y_pred))"
   ]
  }
 ],
 "metadata": {
  "kernelspec": {
   "display_name": "Python 3",
   "language": "python",
   "name": "python3"
  },
  "language_info": {
   "codemirror_mode": {
    "name": "ipython",
    "version": 3
   },
   "file_extension": ".py",
   "mimetype": "text/x-python",
   "name": "python",
   "nbconvert_exporter": "python",
   "pygments_lexer": "ipython3",
   "version": "3.5.2"
  }
 },
 "nbformat": 4,
 "nbformat_minor": 1
}
