{
 "cells": [
  {
   "cell_type": "code",
   "execution_count": null,
   "metadata": {},
   "outputs": [],
   "source": [
    "# IMPLEMENTATION taken from https://github.com/udsclub/ucu_sentiment/blob/master/projects/p01/notebooks/english_cnn_emb_on_eng_lang.ipynb"
   ]
  },
  {
   "cell_type": "code",
   "execution_count": 22,
   "metadata": {},
   "outputs": [],
   "source": [
    "import os\n",
    "import numpy as np\n",
    "from keras import backend as K\n",
    "import csv\n",
    "import gzip\n",
    "from sklearn.model_selection import train_test_split\n",
    "import random\n",
    "import pandas as pd\n",
    "from keras.preprocessing.sequence import pad_sequences\n",
    "import string\n",
    "from gensim.models.doc2vec import TaggedDocument\n",
    "import gensim.models as g\n",
    "import codecs\n",
    "from sklearn.metrics import f1_score"
   ]
  },
  {
   "cell_type": "code",
   "execution_count": 41,
   "metadata": {},
   "outputs": [],
   "source": [
    "def f1(y_true, y_pred):\n",
    "    def recall(y_true, y_pred):\n",
    "        \"\"\"Recall metric.\n",
    "            \n",
    "            Only computes a batch-wise average of recall.\n",
    "            \n",
    "            Computes the recall, a metric for multi-label classification of\n",
    "            how many relevant items are selected.\n",
    "            \"\"\"\n",
    "        true_positives = K.sum(K.round(K.clip(y_true * y_pred, 0, 1)))\n",
    "        possible_positives = K.sum(K.round(K.clip(y_true, 0, 1)))\n",
    "        recall = true_positives / (possible_positives + K.epsilon())\n",
    "        return recall\n",
    "    \n",
    "    def precision(y_true, y_pred):\n",
    "        \"\"\"Precision metric.\n",
    "            \n",
    "            Only computes a batch-wise average of precision.\n",
    "            \n",
    "            Computes the precision, a metric for multi-label classification of\n",
    "            how many selected items are relevant.\n",
    "            \"\"\"\n",
    "        true_positives = K.sum(K.round(K.clip(y_true * y_pred, 0, 1)))\n",
    "        predicted_positives = K.sum(K.round(K.clip(y_pred, 0, 1)))\n",
    "        precision = true_positives / (predicted_positives + K.epsilon())\n",
    "        return precision\n",
    "    precision = precision(y_true, y_pred)\n",
    "    recall = recall(y_true, y_pred)\n",
    "    return 2*((precision*recall)/(precision+recall))"
   ]
  },
  {
   "cell_type": "code",
   "execution_count": 7,
   "metadata": {},
   "outputs": [],
   "source": [
    "def load_initial_data(path):\n",
    "    df = []\n",
    "    for line in gzip.open(path, 'rb'):\n",
    "        df.append(eval(line))\n",
    "    return df"
   ]
  },
  {
   "cell_type": "code",
   "execution_count": 11,
   "metadata": {},
   "outputs": [],
   "source": [
    "data = []\n",
    "for file in os.listdir(\"amazon\"):\n",
    "    data+=load_initial_data(\"amazon/\"+file)"
   ]
  },
  {
   "cell_type": "code",
   "execution_count": 16,
   "metadata": {},
   "outputs": [],
   "source": [
    "data = data[:int(len(data)*0.1)]\n",
    "random.shuffle(data)\n",
    "dataframe = pd.DataFrame.from_dict(data)"
   ]
  },
  {
   "cell_type": "code",
   "execution_count": 17,
   "metadata": {},
   "outputs": [
    {
     "name": "stderr",
     "output_type": "stream",
     "text": [
      "/home/ostapkharysh/.local/lib/python3.5/site-packages/ipykernel_launcher.py:2: FutureWarning: Method .as_matrix will be removed in a future version. Use .values instead.\n",
      "  \n"
     ]
    }
   ],
   "source": [
    "dataX, dataY = dataframe[\"question\"], dataframe[\"questionType\"]\n",
    "dataY = dataY.apply(lambda y: 1 if y == \"yes/no\" else 0).as_matrix()"
   ]
  },
  {
   "cell_type": "code",
   "execution_count": 20,
   "metadata": {},
   "outputs": [],
   "source": [
    "questions =list()\n",
    "for el in range(len(dataframe)):\n",
    "    questions.append(TaggedDocument(dataX[el], [dataY[el]]))"
   ]
  },
  {
   "cell_type": "code",
   "execution_count": 23,
   "metadata": {},
   "outputs": [
    {
     "name": "stderr",
     "output_type": "stream",
     "text": [
      "/usr/local/lib/python3.5/dist-packages/gensim/models/doc2vec.py:366: UserWarning: The parameter `size` is deprecated, will be removed in 4.0.0, use `vector_size` instead.\n",
      "  warnings.warn(\"The parameter `size` is deprecated, will be removed in 4.0.0, use `vector_size` instead.\")\n"
     ]
    }
   ],
   "source": [
    "question_vecs = list()\n",
    "model = g.Doc2Vec(size=300, window=20, min_count=2, workers=8, alpha=0.025, min_alpha=0.01, dm=0)\n",
    "model.build_vocab(questions)\n",
    "model.train(questions, total_examples=len(questions), epochs=10)\n",
    "#print(model.infer_vector(dataX[0]))\n",
    "for el in range(len(dataX)):\n",
    "    question_vecs.append((model.infer_vector(dataX[el])))"
   ]
  },
  {
   "cell_type": "code",
   "execution_count": 25,
   "metadata": {},
   "outputs": [],
   "source": [
    "index = int(len(dataframe)*0.8)"
   ]
  },
  {
   "cell_type": "code",
   "execution_count": 26,
   "metadata": {},
   "outputs": [],
   "source": [
    "data, labels =  question_vecs, dataY \n",
    "labels = np.asarray(labels, dtype = 'int8')"
   ]
  },
  {
   "cell_type": "code",
   "execution_count": 28,
   "metadata": {},
   "outputs": [],
   "source": [
    "# parameters initialization\n",
    "VALIDATION_SPLIT = 0.1\n",
    "RANDOM_SEED = 42"
   ]
  },
  {
   "cell_type": "code",
   "execution_count": 29,
   "metadata": {},
   "outputs": [],
   "source": [
    "# spliting our original data on train and validation sets\n",
    "data_train, data_val, labels_train, labels_val = train_test_split(data, \n",
    "                                                                  np.asarray(labels, dtype = 'int8'), \n",
    "                                                                  test_size = VALIDATION_SPLIT, \n",
    "                                                                  random_state = RANDOM_SEED, \n",
    "                                                                  stratify = labels)"
   ]
  },
  {
   "cell_type": "code",
   "execution_count": 30,
   "metadata": {},
   "outputs": [],
   "source": [
    "# initialize dictionary size and maximum sentence length\n",
    "MAX_NB_WORDS = 74\n",
    "MAX_SEQUENCE_LENGTH = 400\n",
    "eng_alphabet = ['a','b','c','d','e','f','g','h','i','j','k','l','m','n','o','p','q','r','s','t','u','v','w','x','y','z']"
   ]
  },
  {
   "cell_type": "code",
   "execution_count": 31,
   "metadata": {},
   "outputs": [],
   "source": [
    "def create_vocab_set():\n",
    "    alphabet = (list(eng_alphabet) + list(string.digits) + list(string.punctuation) + list(string.whitespace))\n",
    "    vocab_size = len(alphabet)\n",
    "    vocab = {}\n",
    "    for ix, t in enumerate(alphabet):\n",
    "        vocab[t] = ix+1\n",
    "    return vocab, vocab_size"
   ]
  },
  {
   "cell_type": "code",
   "execution_count": 32,
   "metadata": {},
   "outputs": [],
   "source": [
    "def text2sequence(text, vocab):\n",
    "    temp = []\n",
    "    for review in text:\n",
    "                     temp.append([])\n",
    "                     for i in review:\n",
    "                         char = vocab.get(i,0)\n",
    "                         if char != 0:\n",
    "                            temp[-1].append(char)\n",
    "    return temp"
   ]
  },
  {
   "cell_type": "code",
   "execution_count": 33,
   "metadata": {},
   "outputs": [],
   "source": [
    "vocab, vocab_size = create_vocab_set()\n",
    "\n",
    "X_train = text2sequence(data_train, vocab)\n",
    "X_val = text2sequence(data_val, vocab)\n",
    "\n",
    "X_train = pad_sequences(X_train, maxlen=MAX_SEQUENCE_LENGTH, value=0)\n",
    "X_val = pad_sequences(X_val, maxlen=MAX_SEQUENCE_LENGTH, value=0)"
   ]
  },
  {
   "cell_type": "code",
   "execution_count": 34,
   "metadata": {},
   "outputs": [],
   "source": [
    "from keras.models import Sequential\n",
    "from keras.layers import GlobalMaxPooling1D, Conv1D, Dropout, Embedding, Dense\n",
    "from keras.callbacks import TensorBoard, EarlyStopping, ModelCheckpoint"
   ]
  },
  {
   "cell_type": "code",
   "execution_count": 42,
   "metadata": {},
   "outputs": [
    {
     "name": "stdout",
     "output_type": "stream",
     "text": [
      "_________________________________________________________________\n",
      "Layer (type)                 Output Shape              Param #   \n",
      "=================================================================\n",
      "embedding_2 (Embedding)      (None, 400, 100)          7500      \n",
      "_________________________________________________________________\n",
      "conv1d_3 (Conv1D)            (None, 397, 200)          80200     \n",
      "_________________________________________________________________\n",
      "conv1d_4 (Conv1D)            (None, 394, 200)          160200    \n",
      "_________________________________________________________________\n",
      "global_max_pooling1d_2 (Glob (None, 200)               0         \n",
      "_________________________________________________________________\n",
      "dense_4 (Dense)              (None, 100)               20100     \n",
      "_________________________________________________________________\n",
      "dropout_2 (Dropout)          (None, 100)               0         \n",
      "_________________________________________________________________\n",
      "dense_5 (Dense)              (None, 100)               10100     \n",
      "_________________________________________________________________\n",
      "dense_6 (Dense)              (None, 1)                 101       \n",
      "=================================================================\n",
      "Total params: 278,201\n",
      "Trainable params: 278,201\n",
      "Non-trainable params: 0\n",
      "_________________________________________________________________\n",
      "Train on 1256 samples, validate on 140 samples\n",
      "Epoch 1/1000\n",
      "1256/1256 [==============================] - 85s 68ms/step - loss: 0.6933 - f1: 0.5149 - val_loss: 0.6912 - val_f1: nan\n",
      "Epoch 2/1000\n",
      "1256/1256 [==============================] - 13s 10ms/step - loss: 0.6917 - f1: nan - val_loss: 0.6899 - val_f1: nan\n",
      "Epoch 3/1000\n",
      "1256/1256 [==============================] - 13s 10ms/step - loss: 0.6902 - f1: nan - val_loss: 0.6895 - val_f1: nan\n",
      "Epoch 4/1000\n",
      "1256/1256 [==============================] - 15s 12ms/step - loss: 0.6907 - f1: nan - val_loss: 0.6899 - val_f1: nan\n",
      "Epoch 5/1000\n",
      "1256/1256 [==============================] - 14s 11ms/step - loss: 0.6893 - f1: nan - val_loss: 0.6901 - val_f1: nan\n"
     ]
    },
    {
     "data": {
      "text/plain": [
       "<keras.callbacks.History at 0x7f15f9845cc0>"
      ]
     },
     "execution_count": 42,
     "metadata": {},
     "output_type": "execute_result"
    }
   ],
   "source": [
    "NAME = \"char_cnn_emb\"\n",
    "EMBEDDING_DIM = 100\n",
    "\n",
    "# initialize model\n",
    "model = Sequential()\n",
    "model.add(Embedding(vocab_size+1, EMBEDDING_DIM, input_length=MAX_SEQUENCE_LENGTH, trainable=True))\n",
    "model.add(Conv1D(activation=\"relu\", filters=200, kernel_size=4, padding=\"valid\"))\n",
    "model.add(Conv1D(activation=\"relu\", filters=200, kernel_size=4, padding=\"valid\"))\n",
    "model.add(GlobalMaxPooling1D())\n",
    "model.add(Dense(100, activation='relu'))\n",
    "model.add(Dropout(0.5))\n",
    "model.add(Dense(100, activation='relu'))\n",
    "model.add(Dense(1, activation='sigmoid'))\n",
    "\n",
    "callback_2 = EarlyStopping(monitor='val_f1', min_delta=0, patience=5, verbose=0, mode='max')\n",
    "\n",
    "callback_3 = ModelCheckpoint(\"models/model_{}.hdf5\".format(NAME), monitor='val_f1',\n",
    "                                 save_best_only=True, verbose=0, mode='max')\n",
    "\n",
    "model.compile(loss='binary_crossentropy',\n",
    "              optimizer='adam', \n",
    "              metrics=[f1])\n",
    "\n",
    "model.summary()\n",
    "model.fit(X_train, labels_train, validation_data=[X_val, labels_val],\n",
    "          batch_size=1024, epochs=1000, callbacks=[callback_2, callback_3])"
   ]
  },
  {
   "cell_type": "code",
   "execution_count": 37,
   "metadata": {},
   "outputs": [],
   "source": [
    "arr = model.predict_classes(X_val)"
   ]
  },
  {
   "cell_type": "code",
   "execution_count": 38,
   "metadata": {},
   "outputs": [],
   "source": [
    "labels_predicted = arr.reshape((len(arr)))"
   ]
  },
  {
   "cell_type": "code",
   "execution_count": 2,
   "metadata": {},
   "outputs": [],
   "source": [
    "f1_score(labels_val, labels_predicted)"
   ]
  }
 ],
 "metadata": {
  "kernelspec": {
   "display_name": "Python 3",
   "language": "python",
   "name": "python3"
  },
  "language_info": {
   "codemirror_mode": {
    "name": "ipython",
    "version": 3
   },
   "file_extension": ".py",
   "mimetype": "text/x-python",
   "name": "python",
   "nbconvert_exporter": "python",
   "pygments_lexer": "ipython3",
   "version": "3.5.2"
  }
 },
 "nbformat": 4,
 "nbformat_minor": 2
}
