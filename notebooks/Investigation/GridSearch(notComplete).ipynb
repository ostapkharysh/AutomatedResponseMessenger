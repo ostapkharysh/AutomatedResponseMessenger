{
 "cells": [
  {
   "cell_type": "code",
   "execution_count": 1,
   "metadata": {},
   "outputs": [],
   "source": [
    "import gzip\n",
    "import pandas as pd\n",
    "import os\n",
    "import random\n",
    "import numpy as np\n",
    "from sklearn.pipeline import Pipeline\n",
    "from sklearn.feature_extraction.text import TfidfVectorizer\n",
    "from sklearn.metrics import f1_score, classification_report, r2_score\n",
    "from sklearn.metrics import mean_squared_error\n",
    "from sklearn import linear_model\n",
    "from sklearn.model_selection import GridSearchCV"
   ]
  },
  {
   "cell_type": "code",
   "execution_count": 2,
   "metadata": {},
   "outputs": [],
   "source": [
    "def load_initial_data(path):\n",
    "    df = []\n",
    "    for line in gzip.open(path, 'rb'):\n",
    "        df.append(eval(line))\n",
    "    return df"
   ]
  },
  {
   "cell_type": "code",
   "execution_count": 3,
   "metadata": {},
   "outputs": [],
   "source": [
    "data = []\n",
    "for file in os.listdir(\"amazon\"):\n",
    "    data+=load_initial_data(\"amazon/\"+file)\n",
    "    \n",
    "\n"
   ]
  },
  {
   "cell_type": "code",
   "execution_count": 4,
   "metadata": {},
   "outputs": [],
   "source": [
    "full_data = data"
   ]
  },
  {
   "cell_type": "code",
   "execution_count": 5,
   "metadata": {},
   "outputs": [],
   "source": [
    "data = full_data"
   ]
  },
  {
   "cell_type": "code",
   "execution_count": 6,
   "metadata": {},
   "outputs": [],
   "source": [
    "data = data[:int(len(data)*0.05)]\n",
    "random.shuffle(data)\n",
    "dataframe = pd.DataFrame.from_dict(data)"
   ]
  },
  {
   "cell_type": "code",
   "execution_count": 7,
   "metadata": {},
   "outputs": [
    {
     "data": {
      "text/html": [
       "<div>\n",
       "<style scoped>\n",
       "    .dataframe tbody tr th:only-of-type {\n",
       "        vertical-align: middle;\n",
       "    }\n",
       "\n",
       "    .dataframe tbody tr th {\n",
       "        vertical-align: top;\n",
       "    }\n",
       "\n",
       "    .dataframe thead th {\n",
       "        text-align: right;\n",
       "    }\n",
       "</style>\n",
       "<table border=\"1\" class=\"dataframe\">\n",
       "  <thead>\n",
       "    <tr style=\"text-align: right;\">\n",
       "      <th></th>\n",
       "      <th>answer</th>\n",
       "      <th>answerTime</th>\n",
       "      <th>answerType</th>\n",
       "      <th>asin</th>\n",
       "      <th>question</th>\n",
       "      <th>questionType</th>\n",
       "      <th>unixTime</th>\n",
       "    </tr>\n",
       "  </thead>\n",
       "  <tbody>\n",
       "    <tr>\n",
       "      <th>0</th>\n",
       "      <td>I don't think you'd want to use it to cut stea...</td>\n",
       "      <td>Jun 6, 2014</td>\n",
       "      <td>?</td>\n",
       "      <td>B00005AKZK</td>\n",
       "      <td>Does it come pre sharpened? It seems like it m...</td>\n",
       "      <td>yes/no</td>\n",
       "      <td>1.402038e+09</td>\n",
       "    </tr>\n",
       "    <tr>\n",
       "      <th>1</th>\n",
       "      <td>i don't know the BTU out put but when i hook i...</td>\n",
       "      <td>May 24, 2014</td>\n",
       "      <td>NaN</td>\n",
       "      <td>B005CXE650</td>\n",
       "      <td>How many BTU is it? I have to size the regulat...</td>\n",
       "      <td>open-ended</td>\n",
       "      <td>1.400915e+09</td>\n",
       "    </tr>\n",
       "    <tr>\n",
       "      <th>2</th>\n",
       "      <td>No, they sre water resistant.</td>\n",
       "      <td>Oct 7, 2013</td>\n",
       "      <td>N</td>\n",
       "      <td>B008BDEQEY</td>\n",
       "      <td>Is this water proof?</td>\n",
       "      <td>yes/no</td>\n",
       "      <td>1.381129e+09</td>\n",
       "    </tr>\n",
       "    <tr>\n",
       "      <th>3</th>\n",
       "      <td>I don't see why not. It is pretty sturdy and d...</td>\n",
       "      <td>Mar 27, 2015</td>\n",
       "      <td>?</td>\n",
       "      <td>B000N4PH6K</td>\n",
       "      <td>can i use this for a diaper bag?</td>\n",
       "      <td>yes/no</td>\n",
       "      <td>1.427440e+09</td>\n",
       "    </tr>\n",
       "    <tr>\n",
       "      <th>4</th>\n",
       "      <td>I am using the solar panels on two different p...</td>\n",
       "      <td>Mar 23, 2015</td>\n",
       "      <td>NaN</td>\n",
       "      <td>B00BFGG6CY</td>\n",
       "      <td>my pump is 1/2 HP. Can this solar heater handl...</td>\n",
       "      <td>open-ended</td>\n",
       "      <td>1.427094e+09</td>\n",
       "    </tr>\n",
       "  </tbody>\n",
       "</table>\n",
       "</div>"
      ],
      "text/plain": [
       "                                              answer    answerTime answerType  \\\n",
       "0  I don't think you'd want to use it to cut stea...   Jun 6, 2014          ?   \n",
       "1  i don't know the BTU out put but when i hook i...  May 24, 2014        NaN   \n",
       "2                      No, they sre water resistant.   Oct 7, 2013          N   \n",
       "3  I don't see why not. It is pretty sturdy and d...  Mar 27, 2015          ?   \n",
       "4  I am using the solar panels on two different p...  Mar 23, 2015        NaN   \n",
       "\n",
       "         asin                                           question questionType  \\\n",
       "0  B00005AKZK  Does it come pre sharpened? It seems like it m...       yes/no   \n",
       "1  B005CXE650  How many BTU is it? I have to size the regulat...   open-ended   \n",
       "2  B008BDEQEY                               Is this water proof?       yes/no   \n",
       "3  B000N4PH6K                   can i use this for a diaper bag?       yes/no   \n",
       "4  B00BFGG6CY  my pump is 1/2 HP. Can this solar heater handl...   open-ended   \n",
       "\n",
       "       unixTime  \n",
       "0  1.402038e+09  \n",
       "1  1.400915e+09  \n",
       "2  1.381129e+09  \n",
       "3  1.427440e+09  \n",
       "4  1.427094e+09  "
      ]
     },
     "execution_count": 7,
     "metadata": {},
     "output_type": "execute_result"
    }
   ],
   "source": [
    "dataframe.head()"
   ]
  },
  {
   "cell_type": "code",
   "execution_count": 8,
   "metadata": {},
   "outputs": [],
   "source": [
    "X_train, Y_train = dataframe[\"question\"], dataframe[\"questionType\"]\n"
   ]
  },
  {
   "cell_type": "code",
   "execution_count": 9,
   "metadata": {},
   "outputs": [
    {
     "data": {
      "text/plain": [
       "array([False,  True, False, ...,  True,  True,  True])"
      ]
     },
     "execution_count": 9,
     "metadata": {},
     "output_type": "execute_result"
    }
   ],
   "source": [
    "index = np.random.rand(len(dataframe)) < 0.8\n",
    "index"
   ]
  },
  {
   "cell_type": "code",
   "execution_count": 10,
   "metadata": {},
   "outputs": [],
   "source": [
    "TRAIN = dataframe[index]\n",
    "TEST = dataframe[~index]"
   ]
  },
  {
   "cell_type": "code",
   "execution_count": 11,
   "metadata": {},
   "outputs": [
    {
     "data": {
      "text/plain": [
       "55950"
      ]
     },
     "execution_count": 11,
     "metadata": {},
     "output_type": "execute_result"
    }
   ],
   "source": [
    "len(TRAIN)"
   ]
  },
  {
   "cell_type": "code",
   "execution_count": 12,
   "metadata": {},
   "outputs": [
    {
     "data": {
      "text/plain": [
       "13894"
      ]
     },
     "execution_count": 12,
     "metadata": {},
     "output_type": "execute_result"
    }
   ],
   "source": [
    "len(TEST)"
   ]
  },
  {
   "cell_type": "code",
   "execution_count": null,
   "metadata": {},
   "outputs": [],
   "source": []
  },
  {
   "cell_type": "code",
   "execution_count": 13,
   "metadata": {},
   "outputs": [
    {
     "name": "stderr",
     "output_type": "stream",
     "text": [
      "/home/ostapkharysh/.local/lib/python3.5/site-packages/ipykernel_launcher.py:4: FutureWarning: Method .as_matrix will be removed in a future version. Use .values instead.\n",
      "  after removing the cwd from sys.path.\n",
      "/home/ostapkharysh/.local/lib/python3.5/site-packages/ipykernel_launcher.py:5: FutureWarning: Method .as_matrix will be removed in a future version. Use .values instead.\n",
      "  \"\"\"\n"
     ]
    }
   ],
   "source": [
    "X_train, Y_train = TRAIN[\"question\"], TRAIN[\"questionType\"]\n",
    "X_test, Y_test = TEST[\"question\"], TEST[\"questionType\"]\n",
    "\n",
    "Y_train  = Y_train.apply(lambda y: 1 if y == \"yes/no\" else 0).as_matrix()\n",
    "Y_test  = Y_test.apply(lambda y: 1 if y == \"yes/no\" else 0).as_matrix()"
   ]
  },
  {
   "cell_type": "code",
   "execution_count": 14,
   "metadata": {},
   "outputs": [],
   "source": [
    "#Parameters\n",
    "jobs = [1, 3, 5]\n"
   ]
  },
  {
   "cell_type": "code",
   "execution_count": 16,
   "metadata": {},
   "outputs": [
    {
     "data": {
      "text/plain": [
       "dict_keys(['lr__fit_intercept', 'lr__n_jobs', 'tfidf__tokenizer', 'tfidf__strip_accents', 'tfidf__lowercase', 'tfidf__stop_words', 'tfidf__smooth_idf', 'tfidf__input', 'tfidf__use_idf', 'tfidf', 'lr', 'lr__normalize', 'tfidf__preprocessor', 'tfidf__token_pattern', 'tfidf__max_features', 'tfidf__max_df', 'tfidf__decode_error', 'tfidf__dtype', 'tfidf__norm', 'tfidf__min_df', 'tfidf__analyzer', 'tfidf__sublinear_tf', 'steps', 'tfidf__binary', 'memory', 'tfidf__encoding', 'tfidf__ngram_range', 'tfidf__vocabulary', 'lr__copy_X'])"
      ]
     },
     "execution_count": 16,
     "metadata": {},
     "output_type": "execute_result"
    }
   ],
   "source": [
    "#lin_model = linear_model.LinearRegression()\n",
    "#mdl_lin = Pipeline([('tfidf', TfidfVectorizer(ngram_range=(1, 3))), ('lr', linear_model.LinearRegression())])\n",
    "lin_df = Pipeline([('tfidf', TfidfVectorizer(ngram_range=(1, 3))), ('lr', linear_model.LinearRegression())])\n",
    "#mdl_log = Pipeline([('tfidf', TfidfVectorizer(ngram_range=(1, 3))), ('lr', linear_model.LogisticRegression())])\n",
    "grid = GridSearchCV(cv = 3, estimator = lin_df, param_grid = dict(lr__n_jobs =jobs,))\n",
    "lin_df.get_params().keys()"
   ]
  },
  {
   "cell_type": "code",
   "execution_count": null,
   "metadata": {},
   "outputs": [],
   "source": [
    "grid.fit(X_train, Y_train)\n",
    "#mdl_lin.get_params().keys()"
   ]
  },
  {
   "cell_type": "code",
   "execution_count": null,
   "metadata": {},
   "outputs": [],
   "source": [
    "pred_lin = grid.predict(X_test)\n",
    "#pred_log = mdl_log.predict(X_test)"
   ]
  },
  {
   "cell_type": "code",
   "execution_count": null,
   "metadata": {},
   "outputs": [],
   "source": [
    "print(\"LINEAR REGRESSION\")\n",
    "print(\"Accuracy: %.5f\" % r2_score(Y_test, pred_lin))\n",
    "# The mean squared error\n",
    "print(\"Mean squared error: %.2f\"\n",
    "      % mean_squared_error(Y_test, pred_lin))\n",
    "# Explained variance score: 1 is perfect prediction\n",
    "print('Variance score: %.2f' % r2_score(Y_test, pred_lin))\n",
    "print()\n",
    "\"\"\"\n",
    "\n",
    "print(\"LOGISTIC REGRESSION\")\n",
    "print(\"Accuracy: %.5f\" % r2_score(Y_test, pred_log))\n",
    "# The mean squared error\n",
    "print(\"Mean squared error: %.2f\"\n",
    "      % mean_squared_error(Y_test, pred_log))\n",
    "# Explained variance score: 1 is perfect prediction\n",
    "print('Variance score: %.2f' % r2_score(Y_test, pred_log))\n",
    "\"\"\""
   ]
  },
  {
   "cell_type": "code",
   "execution_count": null,
   "metadata": {},
   "outputs": [],
   "source": []
  }
 ],
 "metadata": {
  "kernelspec": {
   "display_name": "Python 3",
   "language": "python",
   "name": "python3"
  },
  "language_info": {
   "codemirror_mode": {
    "name": "ipython",
    "version": 3
   },
   "file_extension": ".py",
   "mimetype": "text/x-python",
   "name": "python",
   "nbconvert_exporter": "python",
   "pygments_lexer": "ipython3",
   "version": "3.5.2"
  }
 },
 "nbformat": 4,
 "nbformat_minor": 2
}
