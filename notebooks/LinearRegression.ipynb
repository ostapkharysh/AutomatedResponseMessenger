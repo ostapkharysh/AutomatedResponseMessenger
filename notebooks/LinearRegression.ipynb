{
 "cells": [
  {
   "cell_type": "code",
   "execution_count": 1,
   "metadata": {},
   "outputs": [
    {
     "name": "stderr",
     "output_type": "stream",
     "text": [
      "/usr/local/lib/python3.6/dist-packages/sklearn/cross_validation.py:41: DeprecationWarning: This module was deprecated in version 0.18 in favor of the model_selection module into which all the refactored classes and functions are moved. Also note that the interface of the new CV iterators are different from that of this module. This module will be removed in 0.20.\n",
      "  \"This module will be removed in 0.20.\", DeprecationWarning)\n"
     ]
    }
   ],
   "source": [
    "import pandas as pd\n",
    "import numpy as np\n",
    "from sklearn import linear_model\n",
    "from sklearn.cross_validation import train_test_split\n",
    "from scripts.loader import load_data\n",
    "from sklearn.pipeline import Pipeline\n",
    "from sklearn.feature_extraction.text import TfidfVectorizer\n",
    "from sklearn.metrics import f1_score, classification_report, r2_score"
   ]
  },
  {
   "cell_type": "code",
   "execution_count": 2,
   "metadata": {},
   "outputs": [],
   "source": [
    "A = load_data(\"data/qa_Appliances.json.gz\")\n",
    "B = load_data(\"data/qa_Tools_and_Home_Improvement.json.gz\")"
   ]
  },
  {
   "cell_type": "code",
   "execution_count": 3,
   "metadata": {},
   "outputs": [],
   "source": [
    "\n",
    "X_train, Y_train = A[\"question\"], A[\"questionType\"]\n",
    "X_test, Y_test = B[\"question\"], B[\"questionType\"]\n"
   ]
  },
  {
   "cell_type": "code",
   "execution_count": 4,
   "metadata": {},
   "outputs": [],
   "source": [
    "Y_train  = Y_train.apply(lambda y: 1 if y == \"yes/no\" else 0).as_matrix()\n",
    "Y_test  = Y_test.apply(lambda y: 1 if y == \"yes/no\" else 0).as_matrix()\n",
    "\n",
    "#X = X.apply(lambda y: str(y) if not isinstance(y, str) else pass).as_matrix()\n",
    "#X = pd.DataFrame(X)\n",
    "#Y = pd.DataFrame(Y)\n",
    "#print(Y)\n"
   ]
  },
  {
   "cell_type": "code",
   "execution_count": null,
   "metadata": {},
   "outputs": [],
   "source": []
  },
  {
   "cell_type": "code",
   "execution_count": 5,
   "metadata": {},
   "outputs": [
    {
     "name": "stdout",
     "output_type": "stream",
     "text": [
      "9011\n",
      "101088\n",
      "9011\n",
      "101088\n"
     ]
    }
   ],
   "source": [
    "#x_train, x_test, y_train, y_test = train_test_split(X, Y, test_size=0.2, stratify=Y)\n",
    "#random_state=4\n",
    "#vect = TfidfVectorizer()\n",
    "#x_train_vect = vect.fit_transform(x_train)\n",
    "#y_train_vect = vect.fit_transform(y_train)\n",
    "#mdl = linear_model.LinearRegression()\n",
    "#mdl.train(x_train_vect, y_train_vect)\n",
    "print(len(X_train))\n",
    "#print(x_train_vect)\n",
    "print(len(X_test))\n",
    "print(len(Y_train))\n",
    "print(len(Y_test))"
   ]
  },
  {
   "cell_type": "code",
   "execution_count": 10,
   "metadata": {},
   "outputs": [],
   "source": [
    "mdl_lin = Pipeline([('tfidf', TfidfVectorizer(ngram_range=(1, 3))), ('lr', linear_model.LinearRegression())])\n",
    "mdl_log = Pipeline([('tfidf', TfidfVectorizer(ngram_range=(1, 3))), ('lr', linear_model.LogisticRegression())])"
   ]
  },
  {
   "cell_type": "code",
   "execution_count": 11,
   "metadata": {
    "scrolled": true
   },
   "outputs": [
    {
     "data": {
      "text/plain": [
       "Pipeline(memory=None,\n",
       "     steps=[('tfidf', TfidfVectorizer(analyzer='word', binary=False, decode_error='strict',\n",
       "        dtype=<class 'numpy.int64'>, encoding='utf-8', input='content',\n",
       "        lowercase=True, max_df=1.0, max_features=None, min_df=1,\n",
       "        ngram_range=(1, 3), norm='l2', preprocessor=None, smooth_idf=True,\n",
       " ...ty='l2', random_state=None, solver='liblinear', tol=0.0001,\n",
       "          verbose=0, warm_start=False))])"
      ]
     },
     "execution_count": 11,
     "metadata": {},
     "output_type": "execute_result"
    }
   ],
   "source": [
    "mdl_lin.fit(X_train, Y_train)\n",
    "mdl_log.fit(X_train, Y_train)\n",
    "# print(\"formula: y={0}x + {1}\".format(m, b))\n"
   ]
  },
  {
   "cell_type": "code",
   "execution_count": 12,
   "metadata": {},
   "outputs": [],
   "source": [
    "pred_lin = mdl_lin.predict(X_test)\n",
    "pred_log = mdl_log.predict(X_test)\n",
    "#print(len(x_test))\n",
    "#print(pred_lin)"
   ]
  },
  {
   "cell_type": "code",
   "execution_count": 13,
   "metadata": {
    "scrolled": true
   },
   "outputs": [
    {
     "name": "stdout",
     "output_type": "stream",
     "text": [
      "Linear regression\n",
      "0.4115941563204166\n",
      "Logistic regression\n",
      "0.36966131111815004\n"
     ]
    }
   ],
   "source": [
    "print(\"Linear regression\")\n",
    "print(r2_score(Y_test, pred_lin))\n",
    "print(\"Logistic regression\")\n",
    "print(r2_score(Y_test, pred_log))"
   ]
  },
  {
   "cell_type": "code",
   "execution_count": null,
   "metadata": {},
   "outputs": [],
   "source": []
  }
 ],
 "metadata": {
  "kernelspec": {
   "display_name": "Python 3",
   "language": "python",
   "name": "python3"
  },
  "language_info": {
   "codemirror_mode": {
    "name": "ipython",
    "version": 3
   },
   "file_extension": ".py",
   "mimetype": "text/x-python",
   "name": "python",
   "nbconvert_exporter": "python",
   "pygments_lexer": "ipython3",
   "version": "3.6.3"
  }
 },
 "nbformat": 4,
 "nbformat_minor": 2
}
